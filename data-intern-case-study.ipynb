{
 "cells": [
  {
   "cell_type": "markdown",
   "metadata": {},
   "source": [
    "# 0. Imports"
   ]
  },
  {
   "cell_type": "code",
   "execution_count": 1,
   "metadata": {
    "ExecuteTime": {
     "end_time": "2021-02-22T23:24:21.196129Z",
     "start_time": "2021-02-22T23:24:19.964166Z"
    }
   },
   "outputs": [],
   "source": [
    "import pandas as pd\n",
    "import matplotlib.pyplot as plt\n",
    "import seaborn as sns\n",
    "from matplotlib.ticker import FuncFormatter\n",
    "%matplotlib inline  "
   ]
  },
  {
   "cell_type": "markdown",
   "metadata": {},
   "source": [
    "## 0.1. Helper Functions"
   ]
  },
  {
   "cell_type": "code",
   "execution_count": 2,
   "metadata": {
    "ExecuteTime": {
     "end_time": "2021-02-22T23:24:21.229122Z",
     "start_time": "2021-02-22T23:24:21.223141Z"
    }
   },
   "outputs": [],
   "source": [
    "def bundleTime(hour):\n",
    "    # Receives an Hour from 0 to 23 and return which is the correspondent part of the day. E.g: Receives 9, returns Morning. \n",
    "\n",
    "    dict_time = {\n",
    "        **dict.fromkeys(range(0,7), 'Late Night'), \n",
    "        **dict.fromkeys(range(7,13), 'Morning'),\n",
    "        **dict.fromkeys(range(13,19), 'Afternoon'),\n",
    "        **dict.fromkeys(range(19,24), 'Night')\n",
    "    }\n",
    "    \n",
    "    return dict_time.get(hour, 'outside of range(0,23)')\n",
    "\n",
    "def to_percent(y, position):\n",
    "    # Find the numeric value of each bar in a bar plot and return its value with a % sign.\n",
    "    \n",
    "    s = str(int(100*y))\n",
    "    return s + '%'"
   ]
  },
  {
   "cell_type": "markdown",
   "metadata": {},
   "source": [
    "## 0.2. Loading Data"
   ]
  },
  {
   "cell_type": "code",
   "execution_count": 3,
   "metadata": {
    "ExecuteTime": {
     "end_time": "2021-02-22T23:24:23.738757Z",
     "start_time": "2021-02-22T23:24:21.260000Z"
    },
    "scrolled": false
   },
   "outputs": [],
   "source": [
    "df_raw = pd.read_csv('google_analytics_raw.csv')"
   ]
  },
  {
   "cell_type": "markdown",
   "metadata": {},
   "source": [
    "# 1. Data Description "
   ]
  },
  {
   "cell_type": "code",
   "execution_count": 4,
   "metadata": {
    "ExecuteTime": {
     "end_time": "2021-02-22T23:24:24.372228Z",
     "start_time": "2021-02-22T23:24:24.317596Z"
    }
   },
   "outputs": [
    {
     "data": {
      "text/html": [
       "<div>\n",
       "<style scoped>\n",
       "    .dataframe tbody tr th:only-of-type {\n",
       "        vertical-align: middle;\n",
       "    }\n",
       "\n",
       "    .dataframe tbody tr th {\n",
       "        vertical-align: top;\n",
       "    }\n",
       "\n",
       "    .dataframe thead th {\n",
       "        text-align: right;\n",
       "    }\n",
       "</style>\n",
       "<table border=\"1\" class=\"dataframe\">\n",
       "  <thead>\n",
       "    <tr style=\"text-align: right;\">\n",
       "      <th></th>\n",
       "      <th>visitId</th>\n",
       "      <th>fullVisitorId</th>\n",
       "      <th>date</th>\n",
       "      <th>channelGrouping</th>\n",
       "      <th>socialEngagementType</th>\n",
       "      <th>visits</th>\n",
       "      <th>newVisits</th>\n",
       "      <th>hits</th>\n",
       "      <th>pageviews</th>\n",
       "      <th>bounces</th>\n",
       "      <th>...</th>\n",
       "      <th>pagePath</th>\n",
       "      <th>hostname</th>\n",
       "      <th>pageTitle</th>\n",
       "      <th>pagePathLevel1</th>\n",
       "      <th>pagePathLevel2</th>\n",
       "      <th>socialNetwork</th>\n",
       "      <th>eventCategory</th>\n",
       "      <th>eventAction</th>\n",
       "      <th>eventLabel</th>\n",
       "      <th>eventValue</th>\n",
       "    </tr>\n",
       "  </thead>\n",
       "  <tbody>\n",
       "    <tr>\n",
       "      <th>378948</th>\n",
       "      <td>1613065009</td>\n",
       "      <td>3.627711e+18</td>\n",
       "      <td>20210211</td>\n",
       "      <td>Organic Search</td>\n",
       "      <td>Not Socially Engaged</td>\n",
       "      <td>1.0</td>\n",
       "      <td>1.0</td>\n",
       "      <td>75</td>\n",
       "      <td>3.0</td>\n",
       "      <td>NaN</td>\n",
       "      <td>...</td>\n",
       "      <td>ton.stone.com.br/checkout/</td>\n",
       "      <td>ton.stone.com.br</td>\n",
       "      <td>Ton</td>\n",
       "      <td>ton.stone.com.br/</td>\n",
       "      <td>/checkout/</td>\n",
       "      <td>(not set)</td>\n",
       "      <td>Se Liga no Ton</td>\n",
       "      <td>Selecionar parcelamento em 12x</td>\n",
       "      <td>Checkout - Selecionar parcelamento em 12x</td>\n",
       "      <td>NaN</td>\n",
       "    </tr>\n",
       "    <tr>\n",
       "      <th>218857</th>\n",
       "      <td>1613036629</td>\n",
       "      <td>2.672430e+18</td>\n",
       "      <td>20210211</td>\n",
       "      <td>Referral</td>\n",
       "      <td>Not Socially Engaged</td>\n",
       "      <td>1.0</td>\n",
       "      <td>1.0</td>\n",
       "      <td>14</td>\n",
       "      <td>2.0</td>\n",
       "      <td>NaN</td>\n",
       "      <td>...</td>\n",
       "      <td>ton.stone.com.br/checkout/</td>\n",
       "      <td>ton.stone.com.br</td>\n",
       "      <td>Ton</td>\n",
       "      <td>ton.stone.com.br/</td>\n",
       "      <td>/checkout/</td>\n",
       "      <td>(not set)</td>\n",
       "      <td>Se Liga no Ton</td>\n",
       "      <td>Selecionar pagamento via boleto</td>\n",
       "      <td>Checkout - Selecionar pagamento via boleto</td>\n",
       "      <td>NaN</td>\n",
       "    </tr>\n",
       "    <tr>\n",
       "      <th>207238</th>\n",
       "      <td>1613056219</td>\n",
       "      <td>7.132075e+18</td>\n",
       "      <td>20210211</td>\n",
       "      <td>Direct</td>\n",
       "      <td>Not Socially Engaged</td>\n",
       "      <td>NaN</td>\n",
       "      <td>NaN</td>\n",
       "      <td>13</td>\n",
       "      <td>NaN</td>\n",
       "      <td>NaN</td>\n",
       "      <td>...</td>\n",
       "      <td>www.stone.com.br/</td>\n",
       "      <td>www.stone.com.br</td>\n",
       "      <td>Stone - Produtos financeiros muito além da Maq...</td>\n",
       "      <td>www.stone.com.br/</td>\n",
       "      <td>/</td>\n",
       "      <td>(not set)</td>\n",
       "      <td>Web Vitals</td>\n",
       "      <td>FCP</td>\n",
       "      <td>1613056222206-8293003184775</td>\n",
       "      <td>2276.0</td>\n",
       "    </tr>\n",
       "    <tr>\n",
       "      <th>348165</th>\n",
       "      <td>1613075288</td>\n",
       "      <td>6.140935e+18</td>\n",
       "      <td>20210211</td>\n",
       "      <td>Referral</td>\n",
       "      <td>Not Socially Engaged</td>\n",
       "      <td>1.0</td>\n",
       "      <td>NaN</td>\n",
       "      <td>35</td>\n",
       "      <td>10.0</td>\n",
       "      <td>NaN</td>\n",
       "      <td>...</td>\n",
       "      <td>www.stone.com.br/contrato/</td>\n",
       "      <td>www.stone.com.br</td>\n",
       "      <td>Contrato | Stone</td>\n",
       "      <td>www.stone.com.br/</td>\n",
       "      <td>/contrato/</td>\n",
       "      <td>(not set)</td>\n",
       "      <td>WIDGET_SITE</td>\n",
       "      <td>OPEN_WIDGET</td>\n",
       "      <td>WITHOUT_TEXT</td>\n",
       "      <td>NaN</td>\n",
       "    </tr>\n",
       "    <tr>\n",
       "      <th>41585</th>\n",
       "      <td>1613052642</td>\n",
       "      <td>5.956121e+18</td>\n",
       "      <td>20210211</td>\n",
       "      <td>Social</td>\n",
       "      <td>Not Socially Engaged</td>\n",
       "      <td>NaN</td>\n",
       "      <td>NaN</td>\n",
       "      <td>2</td>\n",
       "      <td>NaN</td>\n",
       "      <td>NaN</td>\n",
       "      <td>...</td>\n",
       "      <td>www.stone.com.br/maquina-de-cartao/?utm_adname...</td>\n",
       "      <td>www.stone.com.br</td>\n",
       "      <td>Máquina de Cartão Stone - Tenha sua Maquininha...</td>\n",
       "      <td>www.stone.com.br/</td>\n",
       "      <td>/maquina-de-cartao/</td>\n",
       "      <td>(not set)</td>\n",
       "      <td>Next.js Custom Metric</td>\n",
       "      <td>Next.js-Hydration</td>\n",
       "      <td>1613052638665-4820028307236</td>\n",
       "      <td>3324.0</td>\n",
       "    </tr>\n",
       "    <tr>\n",
       "      <th>162434</th>\n",
       "      <td>1613046574</td>\n",
       "      <td>4.534044e+18</td>\n",
       "      <td>20210211</td>\n",
       "      <td>Social</td>\n",
       "      <td>Not Socially Engaged</td>\n",
       "      <td>1.0</td>\n",
       "      <td>NaN</td>\n",
       "      <td>9</td>\n",
       "      <td>NaN</td>\n",
       "      <td>NaN</td>\n",
       "      <td>...</td>\n",
       "      <td>www.stone.com.br/maquina-de-cartao/?fbclid=IwA...</td>\n",
       "      <td>www.stone.com.br</td>\n",
       "      <td>Máquina de Cartão Stone - Tenha sua Maquininha...</td>\n",
       "      <td>www.stone.com.br/</td>\n",
       "      <td>/maquina-de-cartao/</td>\n",
       "      <td>(not set)</td>\n",
       "      <td>Web Vitals</td>\n",
       "      <td>TTFB</td>\n",
       "      <td>1613047032901-9627025809740</td>\n",
       "      <td>1678.0</td>\n",
       "    </tr>\n",
       "    <tr>\n",
       "      <th>6036</th>\n",
       "      <td>1613071687</td>\n",
       "      <td>5.284827e+18</td>\n",
       "      <td>20210211</td>\n",
       "      <td>Social</td>\n",
       "      <td>Not Socially Engaged</td>\n",
       "      <td>1.0</td>\n",
       "      <td>1.0</td>\n",
       "      <td>1</td>\n",
       "      <td>1.0</td>\n",
       "      <td>1.0</td>\n",
       "      <td>...</td>\n",
       "      <td>www.ton.com.br/?tax=select-1&amp;fbclid=IwAR2E9iTR...</td>\n",
       "      <td>www.ton.com.br</td>\n",
       "      <td>Ton: Maquininha de cartão, cartão pré-pago, co...</td>\n",
       "      <td>www.ton.com.br/</td>\n",
       "      <td>/?tax=select-1&amp;fbclid=IwAR2E9iTRzOEoYh_2YsBNxL...</td>\n",
       "      <td>Facebook</td>\n",
       "      <td>NaN</td>\n",
       "      <td>NaN</td>\n",
       "      <td>NaN</td>\n",
       "      <td>NaN</td>\n",
       "    </tr>\n",
       "    <tr>\n",
       "      <th>45792</th>\n",
       "      <td>1613077166</td>\n",
       "      <td>3.961179e+18</td>\n",
       "      <td>20210211</td>\n",
       "      <td>Paid Search</td>\n",
       "      <td>Not Socially Engaged</td>\n",
       "      <td>1.0</td>\n",
       "      <td>NaN</td>\n",
       "      <td>3</td>\n",
       "      <td>2.0</td>\n",
       "      <td>NaN</td>\n",
       "      <td>...</td>\n",
       "      <td>www.ton.com.br/</td>\n",
       "      <td>www.ton.com.br</td>\n",
       "      <td>Ton: Maquininha de cartão, cartão pré-pago, co...</td>\n",
       "      <td>www.ton.com.br/</td>\n",
       "      <td>/</td>\n",
       "      <td>(not set)</td>\n",
       "      <td>NaN</td>\n",
       "      <td>NaN</td>\n",
       "      <td>NaN</td>\n",
       "      <td>NaN</td>\n",
       "    </tr>\n",
       "    <tr>\n",
       "      <th>293928</th>\n",
       "      <td>1613068697</td>\n",
       "      <td>2.606755e+18</td>\n",
       "      <td>20210211</td>\n",
       "      <td>Organic Search</td>\n",
       "      <td>Not Socially Engaged</td>\n",
       "      <td>1.0</td>\n",
       "      <td>NaN</td>\n",
       "      <td>21</td>\n",
       "      <td>3.0</td>\n",
       "      <td>NaN</td>\n",
       "      <td>...</td>\n",
       "      <td>www.stone.com.br/</td>\n",
       "      <td>www.stone.com.br</td>\n",
       "      <td>Stone - Produtos financeiros muito além da Maq...</td>\n",
       "      <td>www.stone.com.br/</td>\n",
       "      <td>/</td>\n",
       "      <td>(not set)</td>\n",
       "      <td>Next.js Custom Metric</td>\n",
       "      <td>Next.js-Hydration</td>\n",
       "      <td>1613068697476-5773399913087</td>\n",
       "      <td>141.0</td>\n",
       "    </tr>\n",
       "    <tr>\n",
       "      <th>395317</th>\n",
       "      <td>1613076659</td>\n",
       "      <td>1.240094e+17</td>\n",
       "      <td>20210211</td>\n",
       "      <td>Social</td>\n",
       "      <td>Not Socially Engaged</td>\n",
       "      <td>1.0</td>\n",
       "      <td>1.0</td>\n",
       "      <td>1</td>\n",
       "      <td>1.0</td>\n",
       "      <td>1.0</td>\n",
       "      <td>...</td>\n",
       "      <td>www.ton.com.br/?tax=select-1&amp;utm_ID=2384535325...</td>\n",
       "      <td>www.ton.com.br</td>\n",
       "      <td>Ton: Maquininha de cartão, cartão pré-pago, co...</td>\n",
       "      <td>www.ton.com.br/</td>\n",
       "      <td>/?tax=select-1&amp;utm_ID=23845353257640091&amp;utm_ad...</td>\n",
       "      <td>(not set)</td>\n",
       "      <td>NaN</td>\n",
       "      <td>NaN</td>\n",
       "      <td>NaN</td>\n",
       "      <td>NaN</td>\n",
       "    </tr>\n",
       "  </tbody>\n",
       "</table>\n",
       "<p>10 rows × 43 columns</p>\n",
       "</div>"
      ],
      "text/plain": [
       "           visitId  fullVisitorId      date channelGrouping  \\\n",
       "378948  1613065009   3.627711e+18  20210211  Organic Search   \n",
       "218857  1613036629   2.672430e+18  20210211        Referral   \n",
       "207238  1613056219   7.132075e+18  20210211          Direct   \n",
       "348165  1613075288   6.140935e+18  20210211        Referral   \n",
       "41585   1613052642   5.956121e+18  20210211          Social   \n",
       "162434  1613046574   4.534044e+18  20210211          Social   \n",
       "6036    1613071687   5.284827e+18  20210211          Social   \n",
       "45792   1613077166   3.961179e+18  20210211     Paid Search   \n",
       "293928  1613068697   2.606755e+18  20210211  Organic Search   \n",
       "395317  1613076659   1.240094e+17  20210211          Social   \n",
       "\n",
       "        socialEngagementType  visits  newVisits  hits  pageviews  bounces  \\\n",
       "378948  Not Socially Engaged     1.0        1.0    75        3.0      NaN   \n",
       "218857  Not Socially Engaged     1.0        1.0    14        2.0      NaN   \n",
       "207238  Not Socially Engaged     NaN        NaN    13        NaN      NaN   \n",
       "348165  Not Socially Engaged     1.0        NaN    35       10.0      NaN   \n",
       "41585   Not Socially Engaged     NaN        NaN     2        NaN      NaN   \n",
       "162434  Not Socially Engaged     1.0        NaN     9        NaN      NaN   \n",
       "6036    Not Socially Engaged     1.0        1.0     1        1.0      1.0   \n",
       "45792   Not Socially Engaged     1.0        NaN     3        2.0      NaN   \n",
       "293928  Not Socially Engaged     1.0        NaN    21        3.0      NaN   \n",
       "395317  Not Socially Engaged     1.0        1.0     1        1.0      1.0   \n",
       "\n",
       "        ...                                           pagePath  \\\n",
       "378948  ...                         ton.stone.com.br/checkout/   \n",
       "218857  ...                         ton.stone.com.br/checkout/   \n",
       "207238  ...                                  www.stone.com.br/   \n",
       "348165  ...                         www.stone.com.br/contrato/   \n",
       "41585   ...  www.stone.com.br/maquina-de-cartao/?utm_adname...   \n",
       "162434  ...  www.stone.com.br/maquina-de-cartao/?fbclid=IwA...   \n",
       "6036    ...  www.ton.com.br/?tax=select-1&fbclid=IwAR2E9iTR...   \n",
       "45792   ...                                    www.ton.com.br/   \n",
       "293928  ...                                  www.stone.com.br/   \n",
       "395317  ...  www.ton.com.br/?tax=select-1&utm_ID=2384535325...   \n",
       "\n",
       "                hostname                                          pageTitle  \\\n",
       "378948  ton.stone.com.br                                                Ton   \n",
       "218857  ton.stone.com.br                                                Ton   \n",
       "207238  www.stone.com.br  Stone - Produtos financeiros muito além da Maq...   \n",
       "348165  www.stone.com.br                                   Contrato | Stone   \n",
       "41585   www.stone.com.br  Máquina de Cartão Stone - Tenha sua Maquininha...   \n",
       "162434  www.stone.com.br  Máquina de Cartão Stone - Tenha sua Maquininha...   \n",
       "6036      www.ton.com.br  Ton: Maquininha de cartão, cartão pré-pago, co...   \n",
       "45792     www.ton.com.br  Ton: Maquininha de cartão, cartão pré-pago, co...   \n",
       "293928  www.stone.com.br  Stone - Produtos financeiros muito além da Maq...   \n",
       "395317    www.ton.com.br  Ton: Maquininha de cartão, cartão pré-pago, co...   \n",
       "\n",
       "           pagePathLevel1                                     pagePathLevel2  \\\n",
       "378948  ton.stone.com.br/                                         /checkout/   \n",
       "218857  ton.stone.com.br/                                         /checkout/   \n",
       "207238  www.stone.com.br/                                                  /   \n",
       "348165  www.stone.com.br/                                         /contrato/   \n",
       "41585   www.stone.com.br/                                /maquina-de-cartao/   \n",
       "162434  www.stone.com.br/                                /maquina-de-cartao/   \n",
       "6036      www.ton.com.br/  /?tax=select-1&fbclid=IwAR2E9iTRzOEoYh_2YsBNxL...   \n",
       "45792     www.ton.com.br/                                                  /   \n",
       "293928  www.stone.com.br/                                                  /   \n",
       "395317    www.ton.com.br/  /?tax=select-1&utm_ID=23845353257640091&utm_ad...   \n",
       "\n",
       "        socialNetwork          eventCategory                      eventAction  \\\n",
       "378948      (not set)         Se Liga no Ton   Selecionar parcelamento em 12x   \n",
       "218857      (not set)         Se Liga no Ton  Selecionar pagamento via boleto   \n",
       "207238      (not set)             Web Vitals                              FCP   \n",
       "348165      (not set)            WIDGET_SITE                      OPEN_WIDGET   \n",
       "41585       (not set)  Next.js Custom Metric                Next.js-Hydration   \n",
       "162434      (not set)             Web Vitals                             TTFB   \n",
       "6036         Facebook                    NaN                              NaN   \n",
       "45792       (not set)                    NaN                              NaN   \n",
       "293928      (not set)  Next.js Custom Metric                Next.js-Hydration   \n",
       "395317      (not set)                    NaN                              NaN   \n",
       "\n",
       "                                        eventLabel eventValue  \n",
       "378948   Checkout - Selecionar parcelamento em 12x        NaN  \n",
       "218857  Checkout - Selecionar pagamento via boleto        NaN  \n",
       "207238                 1613056222206-8293003184775     2276.0  \n",
       "348165                                WITHOUT_TEXT        NaN  \n",
       "41585                  1613052638665-4820028307236     3324.0  \n",
       "162434                 1613047032901-9627025809740     1678.0  \n",
       "6036                                           NaN        NaN  \n",
       "45792                                          NaN        NaN  \n",
       "293928                 1613068697476-5773399913087      141.0  \n",
       "395317                                         NaN        NaN  \n",
       "\n",
       "[10 rows x 43 columns]"
      ]
     },
     "execution_count": 4,
     "metadata": {},
     "output_type": "execute_result"
    }
   ],
   "source": [
    "df_raw.sample(10)"
   ]
  },
  {
   "cell_type": "markdown",
   "metadata": {},
   "source": [
    "## 1.1. Data Dimensions "
   ]
  },
  {
   "cell_type": "code",
   "execution_count": 5,
   "metadata": {
    "ExecuteTime": {
     "end_time": "2021-02-22T23:24:24.962549Z",
     "start_time": "2021-02-22T23:24:24.955633Z"
    }
   },
   "outputs": [
    {
     "name": "stdout",
     "output_type": "stream",
     "text": [
      "Number of Rows: 426343\n",
      "Number of Cols: 43\n"
     ]
    }
   ],
   "source": [
    "print(\"Number of Rows: {}\".format(df_raw.shape[0]))\n",
    "print('Number of Cols: {}'.format(df_raw.shape[1]))"
   ]
  },
  {
   "cell_type": "markdown",
   "metadata": {},
   "source": [
    "## 1.2. Data Types"
   ]
  },
  {
   "cell_type": "code",
   "execution_count": 6,
   "metadata": {
    "ExecuteTime": {
     "end_time": "2021-02-22T23:24:25.544983Z",
     "start_time": "2021-02-22T23:24:25.538938Z"
    },
    "scrolled": true
   },
   "outputs": [
    {
     "data": {
      "text/plain": [
       "visitId                        int64\n",
       "fullVisitorId                float64\n",
       "date                           int64\n",
       "channelGrouping               object\n",
       "socialEngagementType          object\n",
       "visits                       float64\n",
       "newVisits                    float64\n",
       "hits                           int64\n",
       "pageviews                    float64\n",
       "bounces                      float64\n",
       "sessionQualityDim              int64\n",
       "timeOnSite                   float64\n",
       "timeOnScreen                 float64\n",
       "browser                       object\n",
       "operatingSystem               object\n",
       "isMobile                        bool\n",
       "mobileDeviceBranding          object\n",
       "mobileDeviceMarketingName     object\n",
       "deviceCategory                object\n",
       "country                       object\n",
       "region                        object\n",
       "city                          object\n",
       "campaign                      object\n",
       "source                        object\n",
       "medium                        object\n",
       "hitNumber                      int64\n",
       "time                           int64\n",
       "hour                           int64\n",
       "isInteraction                   bool\n",
       "isEntrance                    object\n",
       "isExit                        object\n",
       "referer                       object\n",
       "dataSource                    object\n",
       "pagePath                      object\n",
       "hostname                      object\n",
       "pageTitle                     object\n",
       "pagePathLevel1                object\n",
       "pagePathLevel2                object\n",
       "socialNetwork                 object\n",
       "eventCategory                 object\n",
       "eventAction                   object\n",
       "eventLabel                    object\n",
       "eventValue                   float64\n",
       "dtype: object"
      ]
     },
     "execution_count": 6,
     "metadata": {},
     "output_type": "execute_result"
    }
   ],
   "source": [
    "df_raw.dtypes"
   ]
  },
  {
   "cell_type": "markdown",
   "metadata": {},
   "source": [
    "## 1.3. Filtering Data"
   ]
  },
  {
   "cell_type": "markdown",
   "metadata": {},
   "source": [
    " Your team is only responsible for the following pages (hostname) \"adquira.stone.com.br\" and \"www.stone.com.br\".\n",
    " \n",
    " Our team was concerned about the digital marketing results on a specific date 11/02/2021 and they asked your help in order to deeply understand what's happening on this specific date.\n",
    " "
   ]
  },
  {
   "cell_type": "code",
   "execution_count": 7,
   "metadata": {
    "ExecuteTime": {
     "end_time": "2021-02-22T23:24:26.208628Z",
     "start_time": "2021-02-22T23:24:26.135758Z"
    }
   },
   "outputs": [
    {
     "name": "stdout",
     "output_type": "stream",
     "text": [
      "The dataframe \"df_raw\" contains information about the following days:\n",
      " {20210210, 20210211}\n",
      "\n",
      "The dataframe \"df_raw\" contains information about the following pages:\n",
      " {'adquira.stone.com.br', 'stone.helpjuice.com', 'ajuda.stone.com.br', 'ton.stone.com.br', 'seja.stone.com.br', 'www-stg.stone.com.br', 'www.ton.com.br', 'www.vendamaispelasredessociais.com.br', 'zles2zxf7ccv2kqnv33fqu745m-adwhj77lcyoafdy-ton-stone-com-br.translate.goog', 'portalbeta.stone.com.br', 'ton.stone.com.br.googleweblight.com', '6affxghojqydtmh7eqq67k7oe4-adwhj77lcyoafdy-www-ton-com-br.translate.goog', 'ajuda.stone.com.br.googleweblight.com', 'o4unlwfvbs6e723gfvl24bmpjm-adwhj77lcyoafdy-www-ton-com-br.translate.goog', 'www.mlabs.com.br', 'zles2zxf7ccv2kqnv33fqu745m--ton-stone-com-br.translate.goog', 'experimente.stone.com.br', 'rendaextraton.com.br', 'www.vendamaisnasredessociais.com.br', 'quero.stone.com.br', 'sdx.ton.stone.com.br', 'lp.stone.com.br', 'cadastro.stone.com.br', 'portal-staging.stone.com.br', 'www.ton.com.br.googleweblight.com', 'emprestimo.portal-staging.stone.com.br', 'bws4asf3r355vghnkyelsf5esi-adwhj77lcyoafdy-translate.translate.goog', 'catalogorendaton.ton.com.br', '6affxghojqydtmh7eqq67k7oe4--www-ton-com-br.translate.goog', 'www.stone.com.br', '5d3cgben57m3vtpndqycclpnd4-adwhj77lcyoafdy-translate.translate.goog', 'cuidedopequenonegocio.com.br', 'localhost'}\n"
     ]
    }
   ],
   "source": [
    "# Seeing all the possibilities we have\n",
    "\n",
    "all_dates = set(df_raw['date'])\n",
    "all_pages = set(df_raw['hostname'])\n",
    "print(f'The dataframe \"df_raw\" contains information about the following days:\\n {all_dates}', end='\\n\\n')\n",
    "print(f'The dataframe \"df_raw\" contains information about the following pages:\\n {all_pages}')"
   ]
  },
  {
   "cell_type": "code",
   "execution_count": 8,
   "metadata": {
    "ExecuteTime": {
     "end_time": "2021-02-22T23:24:27.085710Z",
     "start_time": "2021-02-22T23:24:26.797349Z"
    }
   },
   "outputs": [],
   "source": [
    "#backup copy\n",
    "df1 = df_raw.copy()\n",
    "\n",
    "#filtering data\n",
    "df1 = df1[((df1.hostname == \"www.stone.com.br\") | (df1.hostname == \"adquira.stone.com.br\")) & (df1.date == 20210211 )]"
   ]
  },
  {
   "cell_type": "markdown",
   "metadata": {},
   "source": [
    "## 1.4. Check NA"
   ]
  },
  {
   "cell_type": "code",
   "execution_count": 9,
   "metadata": {
    "ExecuteTime": {
     "end_time": "2021-02-22T23:24:28.327708Z",
     "start_time": "2021-02-22T23:24:28.046265Z"
    }
   },
   "outputs": [
    {
     "data": {
      "text/plain": [
       "visitId                           0\n",
       "fullVisitorId                     0\n",
       "date                              0\n",
       "channelGrouping                   0\n",
       "socialEngagementType              0\n",
       "visits                       112485\n",
       "newVisits                    154555\n",
       "hits                              0\n",
       "pageviews                    143623\n",
       "bounces                      308377\n",
       "sessionQualityDim                 0\n",
       "timeOnSite                   114626\n",
       "timeOnScreen                 313651\n",
       "browser                           0\n",
       "operatingSystem                   0\n",
       "isMobile                          0\n",
       "mobileDeviceBranding         135178\n",
       "mobileDeviceMarketingName    135178\n",
       "deviceCategory                    0\n",
       "country                           0\n",
       "region                            0\n",
       "city                              0\n",
       "campaign                          0\n",
       "source                            0\n",
       "medium                            0\n",
       "hitNumber                         0\n",
       "time                              0\n",
       "hour                              0\n",
       "isInteraction                     0\n",
       "isEntrance                   307544\n",
       "isExit                       307680\n",
       "referer                      296489\n",
       "dataSource                        0\n",
       "pagePath                          0\n",
       "hostname                          0\n",
       "pageTitle                      1159\n",
       "pagePathLevel1                    0\n",
       "pagePathLevel2                    0\n",
       "socialNetwork                     0\n",
       "eventCategory                  7640\n",
       "eventAction                    7640\n",
       "eventLabel                    39978\n",
       "eventValue                    73133\n",
       "dtype: int64"
      ]
     },
     "execution_count": 9,
     "metadata": {},
     "output_type": "execute_result"
    }
   ],
   "source": [
    "df1.isna().sum()"
   ]
  },
  {
   "cell_type": "markdown",
   "metadata": {},
   "source": [
    "We do have NaN values in the \"visits\" attributes. Those rows (112.485 rows, 26% of the data) will be discarted, since we are focusing in visits in this study, although it is important to know what have happened and how to prevent it, so we avoid losing information in next analysis.\n",
    "\n",
    "In the other hand, we don't have NaN values in the other attributes needed (\"fullVisitorId\", \"deviceCategory\", \"hour\", \"pagePath\")."
   ]
  },
  {
   "cell_type": "markdown",
   "metadata": {},
   "source": [
    "## 1.5 Remove NA"
   ]
  },
  {
   "cell_type": "code",
   "execution_count": 10,
   "metadata": {
    "ExecuteTime": {
     "end_time": "2021-02-22T23:24:29.560786Z",
     "start_time": "2021-02-22T23:24:29.275071Z"
    }
   },
   "outputs": [
    {
     "data": {
      "text/plain": [
       "visitId                           0\n",
       "fullVisitorId                     0\n",
       "date                              0\n",
       "channelGrouping                   0\n",
       "socialEngagementType              0\n",
       "visits                            0\n",
       "newVisits                    104660\n",
       "hits                              0\n",
       "pageviews                     31138\n",
       "bounces                      195892\n",
       "sessionQualityDim                 0\n",
       "timeOnSite                     2141\n",
       "timeOnScreen                 201166\n",
       "browser                           0\n",
       "operatingSystem                   0\n",
       "isMobile                          0\n",
       "mobileDeviceBranding          96345\n",
       "mobileDeviceMarketingName     96345\n",
       "deviceCategory                    0\n",
       "country                           0\n",
       "region                            0\n",
       "city                              0\n",
       "campaign                          0\n",
       "source                            0\n",
       "medium                            0\n",
       "hitNumber                         0\n",
       "time                              0\n",
       "hour                              0\n",
       "isInteraction                     0\n",
       "isEntrance                   195059\n",
       "isExit                       195195\n",
       "referer                      184004\n",
       "dataSource                        0\n",
       "pagePath                          0\n",
       "hostname                          0\n",
       "pageTitle                      1159\n",
       "pagePathLevel1                    0\n",
       "pagePathLevel2                    0\n",
       "socialNetwork                     0\n",
       "eventCategory                  7640\n",
       "eventAction                    7640\n",
       "eventLabel                    39223\n",
       "eventValue                    67919\n",
       "dtype: int64"
      ]
     },
     "execution_count": 10,
     "metadata": {},
     "output_type": "execute_result"
    }
   ],
   "source": [
    "df1 = df1[df1['visits'].notna()]\n",
    "df1.isna().sum()"
   ]
  },
  {
   "cell_type": "markdown",
   "metadata": {},
   "source": [
    "# 2. Business Questions"
   ]
  },
  {
   "cell_type": "markdown",
   "metadata": {},
   "source": [
    "## 2.1. Question 1"
   ]
  },
  {
   "cell_type": "markdown",
   "metadata": {},
   "source": [
    "### 2.1.1 What is the distribution of visits, in percentage, per Device Category?"
   ]
  },
  {
   "cell_type": "code",
   "execution_count": 11,
   "metadata": {
    "ExecuteTime": {
     "end_time": "2021-02-22T23:24:30.417183Z",
     "start_time": "2021-02-22T23:24:30.384290Z"
    }
   },
   "outputs": [
    {
     "data": {
      "text/html": [
       "<div>\n",
       "<style scoped>\n",
       "    .dataframe tbody tr th:only-of-type {\n",
       "        vertical-align: middle;\n",
       "    }\n",
       "\n",
       "    .dataframe tbody tr th {\n",
       "        vertical-align: top;\n",
       "    }\n",
       "\n",
       "    .dataframe thead th {\n",
       "        text-align: right;\n",
       "    }\n",
       "</style>\n",
       "<table border=\"1\" class=\"dataframe\">\n",
       "  <thead>\n",
       "    <tr style=\"text-align: right;\">\n",
       "      <th></th>\n",
       "      <th>visits</th>\n",
       "      <th>percentage</th>\n",
       "    </tr>\n",
       "    <tr>\n",
       "      <th>deviceCategory</th>\n",
       "      <th></th>\n",
       "      <th></th>\n",
       "    </tr>\n",
       "  </thead>\n",
       "  <tbody>\n",
       "    <tr>\n",
       "      <th>desktop</th>\n",
       "      <td>96473.0</td>\n",
       "      <td>0.479569</td>\n",
       "    </tr>\n",
       "    <tr>\n",
       "      <th>mobile</th>\n",
       "      <td>104282.0</td>\n",
       "      <td>0.518388</td>\n",
       "    </tr>\n",
       "    <tr>\n",
       "      <th>tablet</th>\n",
       "      <td>411.0</td>\n",
       "      <td>0.002043</td>\n",
       "    </tr>\n",
       "  </tbody>\n",
       "</table>\n",
       "</div>"
      ],
      "text/plain": [
       "                  visits  percentage\n",
       "deviceCategory                      \n",
       "desktop          96473.0    0.479569\n",
       "mobile          104282.0    0.518388\n",
       "tablet             411.0    0.002043"
      ]
     },
     "execution_count": 11,
     "metadata": {},
     "output_type": "execute_result"
    }
   ],
   "source": [
    "# Summing the visits\n",
    "df1_1 = df1[['visits', 'deviceCategory']].groupby(by = 'deviceCategory').sum()\n",
    "\n",
    "# Dividing the visits by each category by the total visits to get the percentage\n",
    "df1_1['percentage'] = df1_1.apply(lambda x: x/df1_1.visits.sum())\n",
    "df1_1"
   ]
  },
  {
   "cell_type": "markdown",
   "metadata": {},
   "source": [
    "#### Awnser Question 1.1"
   ]
  },
  {
   "cell_type": "code",
   "execution_count": 12,
   "metadata": {
    "ExecuteTime": {
     "end_time": "2021-02-22T23:24:31.397241Z",
     "start_time": "2021-02-22T23:24:31.253353Z"
    },
    "scrolled": true
   },
   "outputs": [
    {
     "data": {
      "image/png": "[encoded data removed]",
      "text/plain": [
       "<Figure size 360x360 with 1 Axes>"
      ]
     },
     "metadata": {
      "needs_background": "light"
     },
     "output_type": "display_data"
    }
   ],
   "source": [
    "g = sns.catplot(data=df1_1, kind=\"bar\", x = df1_1.index, y=\"percentage\")\n",
    "plt.title('Distribution of visits, in percentage, per Device Category', fontsize = 15)\n",
    "g.set_axis_labels(\"Device Category\", \"% Visits\", fontsize = 12)\n",
    "\n",
    "# Change y axis to %\n",
    "formatter = FuncFormatter(to_percent)\n",
    "plt.gca().yaxis.set_major_formatter(formatter)\n",
    "\n",
    "# Annotation above the bars\n",
    "ax = g.facet_axis(0,0)\n",
    "for p in ax.patches:\n",
    "    ax.text(p.get_x() - 0.01, \n",
    "            p.get_height() * 1.02, \n",
    "           '{0:.1f}%'.format(p.get_height()*100),\n",
    "            color='black', \n",
    "            rotation='horizontal', \n",
    "            size='medium')\n",
    "\n",
    "plt.show()"
   ]
  },
  {
   "cell_type": "markdown",
   "metadata": {},
   "source": [
    "### 2.1.2 What is the distribution of visitors, in percentage, per Device Category?"
   ]
  },
  {
   "cell_type": "code",
   "execution_count": 13,
   "metadata": {
    "ExecuteTime": {
     "end_time": "2021-02-22T23:24:32.314031Z",
     "start_time": "2021-02-22T23:24:32.282137Z"
    }
   },
   "outputs": [
    {
     "data": {
      "text/html": [
       "<div>\n",
       "<style scoped>\n",
       "    .dataframe tbody tr th:only-of-type {\n",
       "        vertical-align: middle;\n",
       "    }\n",
       "\n",
       "    .dataframe tbody tr th {\n",
       "        vertical-align: top;\n",
       "    }\n",
       "\n",
       "    .dataframe thead th {\n",
       "        text-align: right;\n",
       "    }\n",
       "</style>\n",
       "<table border=\"1\" class=\"dataframe\">\n",
       "  <thead>\n",
       "    <tr style=\"text-align: right;\">\n",
       "      <th></th>\n",
       "      <th>fullVisitorId</th>\n",
       "      <th>percentage</th>\n",
       "    </tr>\n",
       "    <tr>\n",
       "      <th>deviceCategory</th>\n",
       "      <th></th>\n",
       "      <th></th>\n",
       "    </tr>\n",
       "  </thead>\n",
       "  <tbody>\n",
       "    <tr>\n",
       "      <th>desktop</th>\n",
       "      <td>9524</td>\n",
       "      <td>0.563951</td>\n",
       "    </tr>\n",
       "    <tr>\n",
       "      <th>mobile</th>\n",
       "      <td>7324</td>\n",
       "      <td>0.433681</td>\n",
       "    </tr>\n",
       "    <tr>\n",
       "      <th>tablet</th>\n",
       "      <td>40</td>\n",
       "      <td>0.002369</td>\n",
       "    </tr>\n",
       "  </tbody>\n",
       "</table>\n",
       "</div>"
      ],
      "text/plain": [
       "                fullVisitorId  percentage\n",
       "deviceCategory                           \n",
       "desktop                  9524    0.563951\n",
       "mobile                   7324    0.433681\n",
       "tablet                     40    0.002369"
      ]
     },
     "execution_count": 13,
     "metadata": {},
     "output_type": "execute_result"
    }
   ],
   "source": [
    "df1_2 = pd.DataFrame( df1.groupby(by = 'deviceCategory').fullVisitorId.apply(lambda x: x.nunique()))\n",
    "df1_2['percentage'] = df1_2.apply(lambda x: x/df1_2.fullVisitorId.sum())\n",
    "df1_2"
   ]
  },
  {
   "cell_type": "markdown",
   "metadata": {},
   "source": [
    "#### Awnser Question 1.2"
   ]
  },
  {
   "cell_type": "code",
   "execution_count": 14,
   "metadata": {
    "ExecuteTime": {
     "end_time": "2021-02-22T23:24:33.347858Z",
     "start_time": "2021-02-22T23:24:33.184419Z"
    }
   },
   "outputs": [
    {
     "data": {
      "image/png": "[encoded data removed]",
      "text/plain": [
       "<Figure size 360x360 with 1 Axes>"
      ]
     },
     "metadata": {
      "needs_background": "light"
     },
     "output_type": "display_data"
    }
   ],
   "source": [
    "g = sns.catplot(data=df1_2, kind=\"bar\", x = df1_2.index, y=\"percentage\", label='medium')\n",
    "plt.title('Distribution of visitors, in percentage, per Device Category', fontsize=15)\n",
    "g.set_axis_labels(\"Device Category\", \"% Visitors\", fontsize = 12)\n",
    "\n",
    "# Change y axis to %\n",
    "formatter = FuncFormatter(to_percent)\n",
    "plt.gca().yaxis.set_major_formatter(formatter)\n",
    "\n",
    "# Annotation above the bars\n",
    "ax = g.facet_axis(0,0)\n",
    "for p in ax.patches:\n",
    "    ax.text(p.get_x() - 0.01, \n",
    "            p.get_height() * 1.02, \n",
    "           '{0:.1f}%'.format(p.get_height()*100),\n",
    "            color='black', \n",
    "            rotation='horizontal', \n",
    "            size='medium')\n",
    "\n",
    "plt.show()"
   ]
  },
  {
   "cell_type": "markdown",
   "metadata": {},
   "source": [
    "## 2.2. Question 2"
   ]
  },
  {
   "cell_type": "code",
   "execution_count": 15,
   "metadata": {
    "ExecuteTime": {
     "end_time": "2021-02-22T23:24:34.270527Z",
     "start_time": "2021-02-22T23:24:34.234839Z"
    }
   },
   "outputs": [],
   "source": [
    "# DataFrame backup\n",
    "df2 = df1.copy()"
   ]
  },
  {
   "cell_type": "markdown",
   "metadata": {},
   "source": [
    "### 2.2.1 How many visitors and visits we had on 2021-02-11?"
   ]
  },
  {
   "cell_type": "markdown",
   "metadata": {},
   "source": [
    "#### Awnser Question 2.1"
   ]
  },
  {
   "cell_type": "code",
   "execution_count": 16,
   "metadata": {
    "ExecuteTime": {
     "end_time": "2021-02-22T23:24:35.469402Z",
     "start_time": "2021-02-22T23:24:35.430513Z"
    }
   },
   "outputs": [
    {
     "name": "stdout",
     "output_type": "stream",
     "text": [
      "in 2021-02-11, we had 201166 visits.\n",
      "in 2021-02-11, we had 16886 visitors.\n"
     ]
    }
   ],
   "source": [
    "# Assuming each fullVisitorId correspond to one visitor\n",
    "\n",
    "print(f'in 2021-02-11, we had {int(df2.visits.sum())} visits.')\n",
    "print(f'in 2021-02-11, we had {int(len(set(df2.fullVisitorId)))} visitors.')"
   ]
  },
  {
   "cell_type": "markdown",
   "metadata": {},
   "source": [
    "### 2.2.2. Considering only www.stone.com.br/maquina-de-cartao, how many visitors and visits we had on this date?"
   ]
  },
  {
   "cell_type": "markdown",
   "metadata": {},
   "source": [
    "#### Awnser Question 2.2"
   ]
  },
  {
   "cell_type": "code",
   "execution_count": 17,
   "metadata": {
    "ExecuteTime": {
     "end_time": "2021-02-22T23:24:36.750321Z",
     "start_time": "2021-02-22T23:24:36.611436Z"
    }
   },
   "outputs": [
    {
     "name": "stdout",
     "output_type": "stream",
     "text": [
      "in 2021-02-11, considering only www.stone.com.br/maquina-de-cartao, we had 59887 visits.\n",
      "in 2021-02-11, considering only www.stone.com.br/maquina-de-cartao, we had 6179 visitors.\n"
     ]
    }
   ],
   "source": [
    "df2_2 = df2[df2.pagePath.str.contains('www.stone.com.br/maquina-de-cartao')]\n",
    "\n",
    "print(f'in 2021-02-11, considering only www.stone.com.br/maquina-de-cartao, we had {int(df2_2.visits.sum())} visits.')\n",
    "print(f'in 2021-02-11, considering only www.stone.com.br/maquina-de-cartao, we had {int(len(set(df2_2.fullVisitorId)))} visitors.')"
   ]
  },
  {
   "cell_type": "markdown",
   "metadata": {},
   "source": [
    "## 2.3. Question 3"
   ]
  },
  {
   "cell_type": "code",
   "execution_count": 18,
   "metadata": {
    "ExecuteTime": {
     "end_time": "2021-02-22T23:24:38.042076Z",
     "start_time": "2021-02-22T23:24:38.005432Z"
    }
   },
   "outputs": [],
   "source": [
    "df3 = df2.copy()"
   ]
  },
  {
   "cell_type": "markdown",
   "metadata": {},
   "source": [
    "## 2.3.1.  One important metric at digital marketing is to understand our main source of traffic (e.g: google, facebook or direct) and how this change over the day. Our team is worried if there is any significant source variation during the period of the day (more details below) at our main Landing Page (www.stone.com.br/maquina-de-cartao)?"
   ]
  },
  {
   "cell_type": "markdown",
   "metadata": {},
   "source": [
    "Late Night = 0h to 6h\n",
    "\n",
    "Morning = 7h to 12h\n",
    "\n",
    "Afternoon = 13h to 18h\n",
    "\n",
    "Night = 19h to 23h"
   ]
  },
  {
   "cell_type": "code",
   "execution_count": 19,
   "metadata": {
    "ExecuteTime": {
     "end_time": "2021-02-22T23:24:39.700238Z",
     "start_time": "2021-02-22T23:24:39.547584Z"
    }
   },
   "outputs": [
    {
     "data": {
      "text/html": [
       "<div>\n",
       "<style scoped>\n",
       "    .dataframe tbody tr th:only-of-type {\n",
       "        vertical-align: middle;\n",
       "    }\n",
       "\n",
       "    .dataframe tbody tr th {\n",
       "        vertical-align: top;\n",
       "    }\n",
       "\n",
       "    .dataframe thead th {\n",
       "        text-align: right;\n",
       "    }\n",
       "</style>\n",
       "<table border=\"1\" class=\"dataframe\">\n",
       "  <thead>\n",
       "    <tr style=\"text-align: right;\">\n",
       "      <th></th>\n",
       "      <th>source</th>\n",
       "      <th>hour</th>\n",
       "      <th>visits</th>\n",
       "    </tr>\n",
       "  </thead>\n",
       "  <tbody>\n",
       "    <tr>\n",
       "      <th>0</th>\n",
       "      <td>(direct)</td>\n",
       "      <td>0</td>\n",
       "      <td>5</td>\n",
       "    </tr>\n",
       "    <tr>\n",
       "      <th>1</th>\n",
       "      <td>(direct)</td>\n",
       "      <td>2</td>\n",
       "      <td>6</td>\n",
       "    </tr>\n",
       "    <tr>\n",
       "      <th>2</th>\n",
       "      <td>(direct)</td>\n",
       "      <td>6</td>\n",
       "      <td>9</td>\n",
       "    </tr>\n",
       "    <tr>\n",
       "      <th>3</th>\n",
       "      <td>(direct)</td>\n",
       "      <td>7</td>\n",
       "      <td>14</td>\n",
       "    </tr>\n",
       "    <tr>\n",
       "      <th>4</th>\n",
       "      <td>(direct)</td>\n",
       "      <td>8</td>\n",
       "      <td>25</td>\n",
       "    </tr>\n",
       "    <tr>\n",
       "      <th>...</th>\n",
       "      <td>...</td>\n",
       "      <td>...</td>\n",
       "      <td>...</td>\n",
       "    </tr>\n",
       "    <tr>\n",
       "      <th>148</th>\n",
       "      <td>ton.com.br</td>\n",
       "      <td>15</td>\n",
       "      <td>21</td>\n",
       "    </tr>\n",
       "    <tr>\n",
       "      <th>149</th>\n",
       "      <td>ton.com.br</td>\n",
       "      <td>16</td>\n",
       "      <td>1</td>\n",
       "    </tr>\n",
       "    <tr>\n",
       "      <th>150</th>\n",
       "      <td>ton.com.br</td>\n",
       "      <td>18</td>\n",
       "      <td>12</td>\n",
       "    </tr>\n",
       "    <tr>\n",
       "      <th>151</th>\n",
       "      <td>youtube.com</td>\n",
       "      <td>11</td>\n",
       "      <td>9</td>\n",
       "    </tr>\n",
       "    <tr>\n",
       "      <th>152</th>\n",
       "      <td>youtube.com</td>\n",
       "      <td>22</td>\n",
       "      <td>7</td>\n",
       "    </tr>\n",
       "  </tbody>\n",
       "</table>\n",
       "<p>153 rows × 3 columns</p>\n",
       "</div>"
      ],
      "text/plain": [
       "          source  hour  visits\n",
       "0       (direct)     0       5\n",
       "1       (direct)     2       6\n",
       "2       (direct)     6       9\n",
       "3       (direct)     7      14\n",
       "4       (direct)     8      25\n",
       "..           ...   ...     ...\n",
       "148   ton.com.br    15      21\n",
       "149   ton.com.br    16       1\n",
       "150   ton.com.br    18      12\n",
       "151  youtube.com    11       9\n",
       "152  youtube.com    22       7\n",
       "\n",
       "[153 rows x 3 columns]"
      ]
     },
     "execution_count": 19,
     "metadata": {},
     "output_type": "execute_result"
    }
   ],
   "source": [
    "# Filtering the pagePath that contains the landing page specified\n",
    "df3_1 = df3[df3.pagePath.str.contains('www.stone.com.br/maquina-de-cartao')]\n",
    "\n",
    "# Seeing how many visits we have in each hour for a determined source\n",
    "df3_1 = pd.DataFrame(df3_1.groupby('source').hour.value_counts())\n",
    "df3_1.rename(columns = {'hour': 'visits'}, inplace = True)\n",
    "df3_1 = df3_1.sort_values(['source', 'hour']).reset_index()\n",
    "df3_1"
   ]
  },
  {
   "cell_type": "code",
   "execution_count": 20,
   "metadata": {
    "ExecuteTime": {
     "end_time": "2021-02-22T23:24:41.364587Z",
     "start_time": "2021-02-22T23:24:41.348025Z"
    }
   },
   "outputs": [
    {
     "data": {
      "text/html": [
       "<div>\n",
       "<style scoped>\n",
       "    .dataframe tbody tr th:only-of-type {\n",
       "        vertical-align: middle;\n",
       "    }\n",
       "\n",
       "    .dataframe tbody tr th {\n",
       "        vertical-align: top;\n",
       "    }\n",
       "\n",
       "    .dataframe thead th {\n",
       "        text-align: right;\n",
       "    }\n",
       "</style>\n",
       "<table border=\"1\" class=\"dataframe\">\n",
       "  <thead>\n",
       "    <tr style=\"text-align: right;\">\n",
       "      <th></th>\n",
       "      <th></th>\n",
       "      <th>visits</th>\n",
       "    </tr>\n",
       "    <tr>\n",
       "      <th>source</th>\n",
       "      <th>bundledTime</th>\n",
       "      <th></th>\n",
       "    </tr>\n",
       "  </thead>\n",
       "  <tbody>\n",
       "    <tr>\n",
       "      <th rowspan=\"4\" valign=\"top\">(direct)</th>\n",
       "      <th>Afternoon</th>\n",
       "      <td>225</td>\n",
       "    </tr>\n",
       "    <tr>\n",
       "      <th>Late Night</th>\n",
       "      <td>20</td>\n",
       "    </tr>\n",
       "    <tr>\n",
       "      <th>Morning</th>\n",
       "      <td>215</td>\n",
       "    </tr>\n",
       "    <tr>\n",
       "      <th>Night</th>\n",
       "      <td>89</td>\n",
       "    </tr>\n",
       "    <tr>\n",
       "      <th rowspan=\"4\" valign=\"top\">bing</th>\n",
       "      <th>Afternoon</th>\n",
       "      <td>1012</td>\n",
       "    </tr>\n",
       "    <tr>\n",
       "      <th>Late Night</th>\n",
       "      <td>46</td>\n",
       "    </tr>\n",
       "    <tr>\n",
       "      <th>Morning</th>\n",
       "      <td>762</td>\n",
       "    </tr>\n",
       "    <tr>\n",
       "      <th>Night</th>\n",
       "      <td>262</td>\n",
       "    </tr>\n",
       "    <tr>\n",
       "      <th>blog.lexos.com.br</th>\n",
       "      <th>Night</th>\n",
       "      <td>7</td>\n",
       "    </tr>\n",
       "    <tr>\n",
       "      <th>calculadoradetaxas.com.br</th>\n",
       "      <th>Morning</th>\n",
       "      <td>6</td>\n",
       "    </tr>\n",
       "    <tr>\n",
       "      <th>cortesia</th>\n",
       "      <th>Afternoon</th>\n",
       "      <td>6</td>\n",
       "    </tr>\n",
       "    <tr>\n",
       "      <th>crm</th>\n",
       "      <th>Night</th>\n",
       "      <td>6</td>\n",
       "    </tr>\n",
       "    <tr>\n",
       "      <th>facebook.com</th>\n",
       "      <th>Night</th>\n",
       "      <td>4</td>\n",
       "    </tr>\n",
       "    <tr>\n",
       "      <th rowspan=\"4\" valign=\"top\">fb</th>\n",
       "      <th>Afternoon</th>\n",
       "      <td>11940</td>\n",
       "    </tr>\n",
       "    <tr>\n",
       "      <th>Late Night</th>\n",
       "      <td>1012</td>\n",
       "    </tr>\n",
       "    <tr>\n",
       "      <th>Morning</th>\n",
       "      <td>12676</td>\n",
       "    </tr>\n",
       "    <tr>\n",
       "      <th>Night</th>\n",
       "      <td>3661</td>\n",
       "    </tr>\n",
       "    <tr>\n",
       "      <th rowspan=\"4\" valign=\"top\">google</th>\n",
       "      <th>Afternoon</th>\n",
       "      <td>10344</td>\n",
       "    </tr>\n",
       "    <tr>\n",
       "      <th>Late Night</th>\n",
       "      <td>1417</td>\n",
       "    </tr>\n",
       "    <tr>\n",
       "      <th>Morning</th>\n",
       "      <td>9797</td>\n",
       "    </tr>\n",
       "    <tr>\n",
       "      <th>Night</th>\n",
       "      <td>5190</td>\n",
       "    </tr>\n",
       "    <tr>\n",
       "      <th>googleweblight.com</th>\n",
       "      <th>Late Night</th>\n",
       "      <td>2</td>\n",
       "    </tr>\n",
       "    <tr>\n",
       "      <th rowspan=\"2\" valign=\"top\">ig</th>\n",
       "      <th>Afternoon</th>\n",
       "      <td>7</td>\n",
       "    </tr>\n",
       "    <tr>\n",
       "      <th>Morning</th>\n",
       "      <td>16</td>\n",
       "    </tr>\n",
       "    <tr>\n",
       "      <th rowspan=\"4\" valign=\"top\">l.facebook.com</th>\n",
       "      <th>Afternoon</th>\n",
       "      <td>28</td>\n",
       "    </tr>\n",
       "    <tr>\n",
       "      <th>Late Night</th>\n",
       "      <td>2</td>\n",
       "    </tr>\n",
       "    <tr>\n",
       "      <th>Morning</th>\n",
       "      <td>48</td>\n",
       "    </tr>\n",
       "    <tr>\n",
       "      <th>Night</th>\n",
       "      <td>1</td>\n",
       "    </tr>\n",
       "    <tr>\n",
       "      <th rowspan=\"2\" valign=\"top\">l.wl.co</th>\n",
       "      <th>Afternoon</th>\n",
       "      <td>7</td>\n",
       "    </tr>\n",
       "    <tr>\n",
       "      <th>Night</th>\n",
       "      <td>1</td>\n",
       "    </tr>\n",
       "    <tr>\n",
       "      <th rowspan=\"2\" valign=\"top\">m.facebook.com</th>\n",
       "      <th>Afternoon</th>\n",
       "      <td>7</td>\n",
       "    </tr>\n",
       "    <tr>\n",
       "      <th>Morning</th>\n",
       "      <td>16</td>\n",
       "    </tr>\n",
       "    <tr>\n",
       "      <th>my.stripo.email</th>\n",
       "      <th>Morning</th>\n",
       "      <td>11</td>\n",
       "    </tr>\n",
       "    <tr>\n",
       "      <th>portal</th>\n",
       "      <th>Night</th>\n",
       "      <td>12</td>\n",
       "    </tr>\n",
       "    <tr>\n",
       "      <th rowspan=\"3\" valign=\"top\">social</th>\n",
       "      <th>Afternoon</th>\n",
       "      <td>66</td>\n",
       "    </tr>\n",
       "    <tr>\n",
       "      <th>Morning</th>\n",
       "      <td>30</td>\n",
       "    </tr>\n",
       "    <tr>\n",
       "      <th>Night</th>\n",
       "      <td>33</td>\n",
       "    </tr>\n",
       "    <tr>\n",
       "      <th>stone.com.br/ton</th>\n",
       "      <th>Night</th>\n",
       "      <td>1</td>\n",
       "    </tr>\n",
       "    <tr>\n",
       "      <th rowspan=\"2\" valign=\"top\">stone.force.com</th>\n",
       "      <th>Afternoon</th>\n",
       "      <td>11</td>\n",
       "    </tr>\n",
       "    <tr>\n",
       "      <th>Morning</th>\n",
       "      <td>4</td>\n",
       "    </tr>\n",
       "    <tr>\n",
       "      <th>suno.com.br</th>\n",
       "      <th>Afternoon</th>\n",
       "      <td>6</td>\n",
       "    </tr>\n",
       "    <tr>\n",
       "      <th rowspan=\"3\" valign=\"top\">tiktok</th>\n",
       "      <th>Afternoon</th>\n",
       "      <td>204</td>\n",
       "    </tr>\n",
       "    <tr>\n",
       "      <th>Morning</th>\n",
       "      <td>509</td>\n",
       "    </tr>\n",
       "    <tr>\n",
       "      <th>Night</th>\n",
       "      <td>71</td>\n",
       "    </tr>\n",
       "    <tr>\n",
       "      <th rowspan=\"3\" valign=\"top\">ton.com.br</th>\n",
       "      <th>Afternoon</th>\n",
       "      <td>45</td>\n",
       "    </tr>\n",
       "    <tr>\n",
       "      <th>Late Night</th>\n",
       "      <td>6</td>\n",
       "    </tr>\n",
       "    <tr>\n",
       "      <th>Morning</th>\n",
       "      <td>30</td>\n",
       "    </tr>\n",
       "    <tr>\n",
       "      <th rowspan=\"2\" valign=\"top\">youtube.com</th>\n",
       "      <th>Morning</th>\n",
       "      <td>9</td>\n",
       "    </tr>\n",
       "    <tr>\n",
       "      <th>Night</th>\n",
       "      <td>7</td>\n",
       "    </tr>\n",
       "  </tbody>\n",
       "</table>\n",
       "</div>"
      ],
      "text/plain": [
       "                                       visits\n",
       "source                    bundledTime        \n",
       "(direct)                  Afternoon       225\n",
       "                          Late Night       20\n",
       "                          Morning         215\n",
       "                          Night            89\n",
       "bing                      Afternoon      1012\n",
       "                          Late Night       46\n",
       "                          Morning         762\n",
       "                          Night           262\n",
       "blog.lexos.com.br         Night             7\n",
       "calculadoradetaxas.com.br Morning           6\n",
       "cortesia                  Afternoon         6\n",
       "crm                       Night             6\n",
       "facebook.com              Night             4\n",
       "fb                        Afternoon     11940\n",
       "                          Late Night     1012\n",
       "                          Morning       12676\n",
       "                          Night          3661\n",
       "google                    Afternoon     10344\n",
       "                          Late Night     1417\n",
       "                          Morning        9797\n",
       "                          Night          5190\n",
       "googleweblight.com        Late Night        2\n",
       "ig                        Afternoon         7\n",
       "                          Morning          16\n",
       "l.facebook.com            Afternoon        28\n",
       "                          Late Night        2\n",
       "                          Morning          48\n",
       "                          Night             1\n",
       "l.wl.co                   Afternoon         7\n",
       "                          Night             1\n",
       "m.facebook.com            Afternoon         7\n",
       "                          Morning          16\n",
       "my.stripo.email           Morning          11\n",
       "portal                    Night            12\n",
       "social                    Afternoon        66\n",
       "                          Morning          30\n",
       "                          Night            33\n",
       "stone.com.br/ton          Night             1\n",
       "stone.force.com           Afternoon        11\n",
       "                          Morning           4\n",
       "suno.com.br               Afternoon         6\n",
       "tiktok                    Afternoon       204\n",
       "                          Morning         509\n",
       "                          Night            71\n",
       "ton.com.br                Afternoon        45\n",
       "                          Late Night        6\n",
       "                          Morning          30\n",
       "youtube.com               Morning           9\n",
       "                          Night             7"
      ]
     },
     "execution_count": 20,
     "metadata": {},
     "output_type": "execute_result"
    }
   ],
   "source": [
    "# Grouping hours in different categories and summing the total visits\n",
    "df3_1['bundledTime'] = df3_1['hour'].apply(lambda x: bundleTime(x))\n",
    "df3_2 = pd.DataFrame(df3_1.groupby(['source', 'bundledTime']).agg({'visits':sum}))\n",
    "df3_2"
   ]
  },
  {
   "cell_type": "code",
   "execution_count": 21,
   "metadata": {
    "ExecuteTime": {
     "end_time": "2021-02-22T23:24:42.950125Z",
     "start_time": "2021-02-22T23:24:42.938471Z"
    }
   },
   "outputs": [
    {
     "data": {
      "text/html": [
       "<div>\n",
       "<style scoped>\n",
       "    .dataframe tbody tr th:only-of-type {\n",
       "        vertical-align: middle;\n",
       "    }\n",
       "\n",
       "    .dataframe tbody tr th {\n",
       "        vertical-align: top;\n",
       "    }\n",
       "\n",
       "    .dataframe thead th {\n",
       "        text-align: right;\n",
       "    }\n",
       "</style>\n",
       "<table border=\"1\" class=\"dataframe\">\n",
       "  <thead>\n",
       "    <tr style=\"text-align: right;\">\n",
       "      <th></th>\n",
       "      <th></th>\n",
       "      <th>visits</th>\n",
       "    </tr>\n",
       "    <tr>\n",
       "      <th>source</th>\n",
       "      <th>bundledTime</th>\n",
       "      <th></th>\n",
       "    </tr>\n",
       "  </thead>\n",
       "  <tbody>\n",
       "    <tr>\n",
       "      <th rowspan=\"4\" valign=\"top\">google</th>\n",
       "      <th>Afternoon</th>\n",
       "      <td>10344</td>\n",
       "    </tr>\n",
       "    <tr>\n",
       "      <th>Late Night</th>\n",
       "      <td>1417</td>\n",
       "    </tr>\n",
       "    <tr>\n",
       "      <th>Morning</th>\n",
       "      <td>9797</td>\n",
       "    </tr>\n",
       "    <tr>\n",
       "      <th>Night</th>\n",
       "      <td>5190</td>\n",
       "    </tr>\n",
       "    <tr>\n",
       "      <th rowspan=\"4\" valign=\"top\">fb</th>\n",
       "      <th>Afternoon</th>\n",
       "      <td>11940</td>\n",
       "    </tr>\n",
       "    <tr>\n",
       "      <th>Late Night</th>\n",
       "      <td>1012</td>\n",
       "    </tr>\n",
       "    <tr>\n",
       "      <th>Morning</th>\n",
       "      <td>12676</td>\n",
       "    </tr>\n",
       "    <tr>\n",
       "      <th>Night</th>\n",
       "      <td>3661</td>\n",
       "    </tr>\n",
       "    <tr>\n",
       "      <th rowspan=\"4\" valign=\"top\">(direct)</th>\n",
       "      <th>Afternoon</th>\n",
       "      <td>225</td>\n",
       "    </tr>\n",
       "    <tr>\n",
       "      <th>Late Night</th>\n",
       "      <td>20</td>\n",
       "    </tr>\n",
       "    <tr>\n",
       "      <th>Morning</th>\n",
       "      <td>215</td>\n",
       "    </tr>\n",
       "    <tr>\n",
       "      <th>Night</th>\n",
       "      <td>89</td>\n",
       "    </tr>\n",
       "    <tr>\n",
       "      <th rowspan=\"4\" valign=\"top\">bing</th>\n",
       "      <th>Afternoon</th>\n",
       "      <td>1012</td>\n",
       "    </tr>\n",
       "    <tr>\n",
       "      <th>Late Night</th>\n",
       "      <td>46</td>\n",
       "    </tr>\n",
       "    <tr>\n",
       "      <th>Morning</th>\n",
       "      <td>762</td>\n",
       "    </tr>\n",
       "    <tr>\n",
       "      <th>Night</th>\n",
       "      <td>262</td>\n",
       "    </tr>\n",
       "  </tbody>\n",
       "</table>\n",
       "</div>"
      ],
      "text/plain": [
       "                      visits\n",
       "source   bundledTime        \n",
       "google   Afternoon     10344\n",
       "         Late Night     1417\n",
       "         Morning        9797\n",
       "         Night          5190\n",
       "fb       Afternoon     11940\n",
       "         Late Night     1012\n",
       "         Morning       12676\n",
       "         Night          3661\n",
       "(direct) Afternoon       225\n",
       "         Late Night       20\n",
       "         Morning         215\n",
       "         Night            89\n",
       "bing     Afternoon      1012\n",
       "         Late Night       46\n",
       "         Morning         762\n",
       "         Night           262"
      ]
     },
     "execution_count": 21,
     "metadata": {},
     "output_type": "execute_result"
    }
   ],
   "source": [
    "# Getting the top3 sources and \"(direct)\" which is included in the question\n",
    "df3_3 = df3_2.loc[['google', 'fb', '(direct)', 'bing']]\n",
    "df3_3"
   ]
  },
  {
   "cell_type": "code",
   "execution_count": 22,
   "metadata": {
    "ExecuteTime": {
     "end_time": "2021-02-22T23:24:44.478612Z",
     "start_time": "2021-02-22T23:24:44.462667Z"
    }
   },
   "outputs": [
    {
     "data": {
      "text/html": [
       "<div>\n",
       "<style scoped>\n",
       "    .dataframe tbody tr th:only-of-type {\n",
       "        vertical-align: middle;\n",
       "    }\n",
       "\n",
       "    .dataframe tbody tr th {\n",
       "        vertical-align: top;\n",
       "    }\n",
       "\n",
       "    .dataframe thead tr th {\n",
       "        text-align: left;\n",
       "    }\n",
       "\n",
       "    .dataframe thead tr:last-of-type th {\n",
       "        text-align: right;\n",
       "    }\n",
       "</style>\n",
       "<table border=\"1\" class=\"dataframe\">\n",
       "  <thead>\n",
       "    <tr>\n",
       "      <th></th>\n",
       "      <th colspan=\"4\" halign=\"left\">visits</th>\n",
       "    </tr>\n",
       "    <tr>\n",
       "      <th>bundledTime</th>\n",
       "      <th>Morning</th>\n",
       "      <th>Afternoon</th>\n",
       "      <th>Night</th>\n",
       "      <th>Late Night</th>\n",
       "    </tr>\n",
       "    <tr>\n",
       "      <th>source</th>\n",
       "      <th></th>\n",
       "      <th></th>\n",
       "      <th></th>\n",
       "      <th></th>\n",
       "    </tr>\n",
       "  </thead>\n",
       "  <tbody>\n",
       "    <tr>\n",
       "      <th>google</th>\n",
       "      <td>9797</td>\n",
       "      <td>10344</td>\n",
       "      <td>5190</td>\n",
       "      <td>1417</td>\n",
       "    </tr>\n",
       "    <tr>\n",
       "      <th>fb</th>\n",
       "      <td>12676</td>\n",
       "      <td>11940</td>\n",
       "      <td>3661</td>\n",
       "      <td>1012</td>\n",
       "    </tr>\n",
       "    <tr>\n",
       "      <th>(direct)</th>\n",
       "      <td>215</td>\n",
       "      <td>225</td>\n",
       "      <td>89</td>\n",
       "      <td>20</td>\n",
       "    </tr>\n",
       "    <tr>\n",
       "      <th>bing</th>\n",
       "      <td>762</td>\n",
       "      <td>1012</td>\n",
       "      <td>262</td>\n",
       "      <td>46</td>\n",
       "    </tr>\n",
       "  </tbody>\n",
       "</table>\n",
       "</div>"
      ],
      "text/plain": [
       "             visits                           \n",
       "bundledTime Morning Afternoon Night Late Night\n",
       "source                                        \n",
       "google         9797     10344  5190       1417\n",
       "fb            12676     11940  3661       1012\n",
       "(direct)        215       225    89         20\n",
       "bing            762      1012   262         46"
      ]
     },
     "execution_count": 22,
     "metadata": {},
     "output_type": "execute_result"
    }
   ],
   "source": [
    "df3_4 = df3_3.unstack()[[('visits', 'Morning'),\n",
    "       ('visits', 'Afternoon' ),\n",
    "       ('visits','Night' ),\n",
    "       ('visits','Late Night')]]\n",
    "df3_4"
   ]
  },
  {
   "cell_type": "markdown",
   "metadata": {},
   "source": [
    "#### Awnser Question 3"
   ]
  },
  {
   "cell_type": "code",
   "execution_count": 23,
   "metadata": {
    "ExecuteTime": {
     "end_time": "2021-02-22T23:24:46.254809Z",
     "start_time": "2021-02-22T23:24:46.103161Z"
    }
   },
   "outputs": [
    {
     "data": {
      "image/png": "[encoded data removed]",
      "text/plain": [
       "<Figure size 1080x576 with 1 Axes>"
      ]
     },
     "metadata": {
      "needs_background": "light"
     },
     "output_type": "display_data"
    }
   ],
   "source": [
    "df3_4.visits.plot(kind = 'bar', figsize = (15,8), ylabel ='visits', fontsize=15)\n",
    "# plt.xticks(fontsize=15)\n",
    "# plt.yticks(fontsize=15)\n",
    "plt.xlabel('Source', fontsize=20)\n",
    "plt.ylabel('Visits', fontsize=20)\n",
    "plt.xticks(rotation=0)\n",
    "plt.legend(fontsize=15);"
   ]
  },
  {
   "cell_type": "code",
   "execution_count": 24,
   "metadata": {
    "ExecuteTime": {
     "end_time": "2021-02-22T23:24:48.064041Z",
     "start_time": "2021-02-22T23:24:47.907545Z"
    }
   },
   "outputs": [
    {
     "data": {
      "image/png": "[encoded data removed]",
      "text/plain": [
       "<Figure size 1080x576 with 1 Axes>"
      ]
     },
     "metadata": {
      "needs_background": "light"
     },
     "output_type": "display_data"
    }
   ],
   "source": [
    "df3_4.visits.T.plot(kind = 'line', figsize = (15,8), ylabel ='visits', fontsize=15)\n",
    "# plt.xticks(fontsize=15)\n",
    "# plt.yticks(fontsize=15)\n",
    "plt.xlabel('Time of the Day', fontsize=20)\n",
    "plt.ylabel('Visits', fontsize=20)\n",
    "# plt.xticks(rotation=45)\n",
    "plt.legend(fontsize=15);"
   ]
  },
  {
   "cell_type": "markdown",
   "metadata": {},
   "source": [
    "From these 2 plots we can observe that:\n",
    "\n",
    "    Facebook is the only source that has more visits in the morning than in the afternoon.\n",
    "    \n",
    "    In the morning and afternoon we get more visits from Facebook, but there is a shift in the night and late night, which Google becomes the source that brings more visits."
   ]
  },
  {
   "cell_type": "code",
   "execution_count": null,
   "metadata": {},
   "outputs": [],
   "source": []
  }
 ],
 "metadata": {
  "kernelspec": {
   "display_name": "Python 3",
   "language": "python",
   "name": "python3"
  },
  "language_info": {
   "codemirror_mode": {
    "name": "ipython",
    "version": 3
   },
   "file_extension": ".py",
   "mimetype": "text/x-python",
   "name": "python",
   "nbconvert_exporter": "python",
   "pygments_lexer": "ipython3",
   "version": "3.7.9"
  },
  "toc": {
   "base_numbering": 1,
   "nav_menu": {},
   "number_sections": false,
   "sideBar": true,
   "skip_h1_title": false,
   "title_cell": "Table of Contents",
   "title_sidebar": "Contents",
   "toc_cell": false,
   "toc_position": {
    "height": "calc(100% - 180px)",
    "left": "10px",
    "top": "150px",
    "width": "328px"
   },
   "toc_section_display": true,
   "toc_window_display": true
  },
  "varInspector": {
   "cols": {
    "lenName": 16,
    "lenType": 16,
    "lenVar": 40
   },
   "kernels_config": {
    "python": {
     "delete_cmd_postfix": "",
     "delete_cmd_prefix": "del ",
     "library": "var_list.py",
     "varRefreshCmd": "print(var_dic_list())"
    },
    "r": {
     "delete_cmd_postfix": ") ",
     "delete_cmd_prefix": "rm(",
     "library": "var_list.r",
     "varRefreshCmd": "cat(var_dic_list()) "
    }
   },
   "types_to_exclude": [
    "module",
    "function",
    "builtin_function_or_method",
    "instance",
    "_Feature"
   ],
   "window_display": false
  }
 },
 "nbformat": 4,
 "nbformat_minor": 4
}
